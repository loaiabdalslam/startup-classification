{
 "cells": [
  {
   "cell_type": "markdown",
   "metadata": {},
   "source": [
    "# Set up"
   ]
  },
  {
   "cell_type": "code",
   "execution_count": 2,
   "metadata": {},
   "outputs": [],
   "source": [
    "import datetime as dt\n",
    "import numpy as np\n",
    "\n",
    "from collections import Counter\n",
    "\n",
    "from psycopg2 import connect\n",
    "from psycopg2.extensions import ISOLATION_LEVEL_AUTOCOMMIT\n",
    "import pandas as pd\n",
    "import pandas.io.sql as pd_sql"
   ]
  },
  {
   "cell_type": "markdown",
   "metadata": {},
   "source": [
    "# Connect to SQL DB"
   ]
  },
  {
   "cell_type": "code",
   "execution_count": 3,
   "metadata": {},
   "outputs": [],
   "source": [
    "params = {\n",
    "    'host': '127.0.0.1',\n",
    "    'port': 5432\n",
    "}\n",
    "\n",
    "connection = connect(**params, dbname='cb')"
   ]
  },
  {
   "cell_type": "markdown",
   "metadata": {},
   "source": [
    "## Get company data"
   ]
  },
  {
   "cell_type": "code",
   "execution_count": 4,
   "metadata": {},
   "outputs": [],
   "source": [
    "query = \"SELECT * FROM cb_objects;\"\n",
    "\n",
    "companies=pd_sql.read_sql(query, connection)"
   ]
  },
  {
   "cell_type": "code",
   "execution_count": 5,
   "metadata": {},
   "outputs": [
    {
     "data": {
      "text/plain": [
       "Index(['id', 'entity_type', 'entity_id', 'parent_id', 'name',\n",
       "       'normalized_name', 'permalink', 'category_code', 'status', 'founded_at',\n",
       "       'closed_at', 'domain', 'homepage_url', 'twitter_username', 'logo_url',\n",
       "       'logo_width', 'logo_height', 'short_description', 'description',\n",
       "       'overview', 'tag_list', 'country_code', 'state_code', 'city', 'region',\n",
       "       'first_investment_at', 'last_investment_at', 'investment_rounds',\n",
       "       'invested_companies', 'first_funding_at', 'last_funding_at',\n",
       "       'funding_rounds', 'funding_total_usd', 'first_milestone_at',\n",
       "       'last_milestone_at', 'milestones', 'relationships', 'created_by',\n",
       "       'created_at', 'updated_at'],\n",
       "      dtype='object')"
      ]
     },
     "execution_count": 5,
     "metadata": {},
     "output_type": "execute_result"
    }
   ],
   "source": [
    "companies.columns"
   ]
  },
  {
   "cell_type": "code",
   "execution_count": 6,
   "metadata": {},
   "outputs": [],
   "source": [
    "select_df=companies[['id', 'name', 'category_code', 'status', 'founded_at','closed_at', 'region',\n",
    "       'first_funding_at']]"
   ]
  },
  {
   "cell_type": "code",
   "execution_count": 7,
   "metadata": {},
   "outputs": [
    {
     "data": {
      "text/plain": [
       "id                  462651\n",
       "name                462651\n",
       "category_code       123186\n",
       "status              462651\n",
       "founded_at          100441\n",
       "closed_at             2809\n",
       "region              462651\n",
       "first_funding_at     31507\n",
       "dtype: int64"
      ]
     },
     "execution_count": 7,
     "metadata": {},
     "output_type": "execute_result"
    }
   ],
   "source": [
    "select_df.count()"
   ]
  },
  {
   "cell_type": "code",
   "execution_count": 8,
   "metadata": {},
   "outputs": [
    {
     "data": {
      "text/plain": [
       "array(['operating', 'acquired', 'closed', 'ipo', 'live', 'beta',\n",
       "       'private', 'alpha', 'development'], dtype=object)"
      ]
     },
     "execution_count": 8,
     "metadata": {},
     "output_type": "execute_result"
    }
   ],
   "source": [
    "select_df.status.unique()"
   ]
  },
  {
   "cell_type": "code",
   "execution_count": 9,
   "metadata": {},
   "outputs": [
    {
     "name": "stdout",
     "output_type": "stream",
     "text": [
      "<class 'pandas.core.frame.DataFrame'>\n",
      "RangeIndex: 462651 entries, 0 to 462650\n",
      "Data columns (total 8 columns):\n",
      "id                  462651 non-null object\n",
      "name                462651 non-null object\n",
      "category_code       123186 non-null object\n",
      "status              462651 non-null object\n",
      "founded_at          100441 non-null object\n",
      "closed_at           2809 non-null object\n",
      "region              462651 non-null object\n",
      "first_funding_at    31507 non-null object\n",
      "dtypes: object(8)\n",
      "memory usage: 28.2+ MB\n"
     ]
    }
   ],
   "source": [
    "select_df.info()"
   ]
  },
  {
   "cell_type": "code",
   "execution_count": 187,
   "metadata": {},
   "outputs": [
    {
     "data": {
      "image/png": "[encoded data removed]",
      "text/plain": [
       "<Figure size 432x288 with 1 Axes>"
      ]
     },
     "metadata": {
      "needs_background": "light"
     },
     "output_type": "display_data"
    }
   ],
   "source": [
    "counts=select_df.status.value_counts()\n",
    "counts.plot(kind='bar', title='Status Count', rot=0);"
   ]
  },
  {
   "cell_type": "markdown",
   "metadata": {},
   "source": [
    "## Get investment data"
   ]
  },
  {
   "cell_type": "markdown",
   "metadata": {},
   "source": [
    "To gather:\n",
    "Per funding round:\n",
    "- months active\n",
    "- funding rounds thus far\n",
    "- current round #\n",
    "- total funding thus far\n",
    "- valuation diff"
   ]
  },
  {
   "cell_type": "code",
   "execution_count": 10,
   "metadata": {},
   "outputs": [],
   "source": [
    "query2 = \"SELECT * FROM cb_funding_rounds;\"\n",
    "\n",
    "funding=pd_sql.read_sql(query2, connection)"
   ]
  },
  {
   "cell_type": "code",
   "execution_count": 11,
   "metadata": {},
   "outputs": [
    {
     "data": {
      "text/plain": [
       "array(['series-b', 'angel', 'series-a', 'series-c+', 'venture', 'other',\n",
       "       'private-equity', 'post-ipo', 'crowdfunding'], dtype=object)"
      ]
     },
     "execution_count": 11,
     "metadata": {},
     "output_type": "execute_result"
    }
   ],
   "source": [
    "funding.funding_round_type.unique()"
   ]
  },
  {
   "cell_type": "code",
   "execution_count": 12,
   "metadata": {},
   "outputs": [
    {
     "name": "stdout",
     "output_type": "stream",
     "text": [
      "<class 'pandas.core.frame.DataFrame'>\n",
      "RangeIndex: 52928 entries, 0 to 52927\n",
      "Data columns (total 23 columns):\n",
      "id                          52928 non-null float64\n",
      "funding_round_id            52928 non-null float64\n",
      "object_id                   52928 non-null object\n",
      "funded_at                   52680 non-null object\n",
      "funding_round_type          52928 non-null object\n",
      "funding_round_code          52928 non-null object\n",
      "raised_amount_usd           46928 non-null float64\n",
      "raised_amount               47290 non-null float64\n",
      "raised_currency_code        49862 non-null object\n",
      "pre_money_valuation_usd     42 non-null float64\n",
      "pre_money_valuation         42 non-null float64\n",
      "pre_money_currency_code     26883 non-null object\n",
      "post_money_valuation_usd    1209 non-null float64\n",
      "post_money_valuation        1294 non-null float64\n",
      "post_money_currency_code    30448 non-null object\n",
      "participants                52928 non-null int64\n",
      "is_first_round              52928 non-null int64\n",
      "is_last_round               52928 non-null int64\n",
      "source_url                  40382 non-null object\n",
      "source_description          43443 non-null object\n",
      "created_by                  48291 non-null object\n",
      "created_at                  52928 non-null object\n",
      "updated_at                  52928 non-null object\n",
      "dtypes: float64(8), int64(3), object(12)\n",
      "memory usage: 9.3+ MB\n"
     ]
    }
   ],
   "source": [
    "funding.info()"
   ]
  },
  {
   "cell_type": "code",
   "execution_count": 13,
   "metadata": {},
   "outputs": [],
   "source": [
    "funding['funded_at'] = pd.to_datetime(funding['funded_at'])"
   ]
  },
  {
   "cell_type": "code",
   "execution_count": 14,
   "metadata": {},
   "outputs": [],
   "source": [
    "funding.sort_values(['object_id','funded_at'], inplace=True)"
   ]
  },
  {
   "cell_type": "code",
   "execution_count": 36,
   "metadata": {},
   "outputs": [],
   "source": [
    "funding_stats=funding[['object_id', 'funded_at', 'funding_round_type', 'raised_amount_usd',\n",
    "                      'participants' ]]"
   ]
  },
  {
   "cell_type": "code",
   "execution_count": 37,
   "metadata": {},
   "outputs": [
    {
     "name": "stdout",
     "output_type": "stream",
     "text": [
      "<class 'pandas.core.frame.DataFrame'>\n",
      "Int64Index: 52928 entries, 819 to 2969\n",
      "Data columns (total 5 columns):\n",
      "object_id             52928 non-null object\n",
      "funded_at             52680 non-null datetime64[ns]\n",
      "funding_round_type    52928 non-null object\n",
      "raised_amount_usd     46928 non-null float64\n",
      "participants          52928 non-null int64\n",
      "dtypes: datetime64[ns](1), float64(1), int64(1), object(2)\n",
      "memory usage: 4.9+ MB\n"
     ]
    }
   ],
   "source": [
    "funding_stats.info()"
   ]
  },
  {
   "cell_type": "code",
   "execution_count": 38,
   "metadata": {},
   "outputs": [
    {
     "data": {
      "text/html": [
       "<div>\n",
       "<style scoped>\n",
       "    .dataframe tbody tr th:only-of-type {\n",
       "        vertical-align: middle;\n",
       "    }\n",
       "\n",
       "    .dataframe tbody tr th {\n",
       "        vertical-align: top;\n",
       "    }\n",
       "\n",
       "    .dataframe thead th {\n",
       "        text-align: right;\n",
       "    }\n",
       "</style>\n",
       "<table border=\"1\" class=\"dataframe\">\n",
       "  <thead>\n",
       "    <tr style=\"text-align: right;\">\n",
       "      <th></th>\n",
       "      <th>object_id</th>\n",
       "      <th>funded_at</th>\n",
       "      <th>funding_round_type</th>\n",
       "      <th>raised_amount_usd</th>\n",
       "      <th>participants</th>\n",
       "    </tr>\n",
       "  </thead>\n",
       "  <tbody>\n",
       "    <tr>\n",
       "      <th>819</th>\n",
       "      <td>c:1</td>\n",
       "      <td>2005-10-01</td>\n",
       "      <td>series-a</td>\n",
       "      <td>5250000.0</td>\n",
       "      <td>2</td>\n",
       "    </tr>\n",
       "    <tr>\n",
       "      <th>820</th>\n",
       "      <td>c:1</td>\n",
       "      <td>2007-01-01</td>\n",
       "      <td>series-b</td>\n",
       "      <td>9500000.0</td>\n",
       "      <td>3</td>\n",
       "    </tr>\n",
       "    <tr>\n",
       "      <th>2123</th>\n",
       "      <td>c:1</td>\n",
       "      <td>2008-05-19</td>\n",
       "      <td>series-c+</td>\n",
       "      <td>25000000.0</td>\n",
       "      <td>4</td>\n",
       "    </tr>\n",
       "    <tr>\n",
       "      <th>1525</th>\n",
       "      <td>c:1001</td>\n",
       "      <td>2008-02-26</td>\n",
       "      <td>series-a</td>\n",
       "      <td>5000000.0</td>\n",
       "      <td>3</td>\n",
       "    </tr>\n",
       "    <tr>\n",
       "      <th>6061</th>\n",
       "      <td>c:10014</td>\n",
       "      <td>2008-09-01</td>\n",
       "      <td>angel</td>\n",
       "      <td>NaN</td>\n",
       "      <td>1</td>\n",
       "    </tr>\n",
       "    <tr>\n",
       "      <th>3296</th>\n",
       "      <td>c:10015</td>\n",
       "      <td>2008-10-10</td>\n",
       "      <td>series-a</td>\n",
       "      <td>2000000.0</td>\n",
       "      <td>2</td>\n",
       "    </tr>\n",
       "    <tr>\n",
       "      <th>16861</th>\n",
       "      <td>c:10015</td>\n",
       "      <td>2010-09-10</td>\n",
       "      <td>series-b</td>\n",
       "      <td>9000000.0</td>\n",
       "      <td>4</td>\n",
       "    </tr>\n",
       "    <tr>\n",
       "      <th>49113</th>\n",
       "      <td>c:10015</td>\n",
       "      <td>2012-01-01</td>\n",
       "      <td>venture</td>\n",
       "      <td>2069200.0</td>\n",
       "      <td>4</td>\n",
       "    </tr>\n",
       "    <tr>\n",
       "      <th>25478</th>\n",
       "      <td>c:10015</td>\n",
       "      <td>2012-01-24</td>\n",
       "      <td>series-c+</td>\n",
       "      <td>12000000.0</td>\n",
       "      <td>4</td>\n",
       "    </tr>\n",
       "    <tr>\n",
       "      <th>41342</th>\n",
       "      <td>c:10015</td>\n",
       "      <td>2013-08-13</td>\n",
       "      <td>series-c+</td>\n",
       "      <td>43000000.0</td>\n",
       "      <td>5</td>\n",
       "    </tr>\n",
       "    <tr>\n",
       "      <th>50866</th>\n",
       "      <td>c:100155</td>\n",
       "      <td>2011-03-08</td>\n",
       "      <td>other</td>\n",
       "      <td>375293.0</td>\n",
       "      <td>0</td>\n",
       "    </tr>\n",
       "    <tr>\n",
       "      <th>23193</th>\n",
       "      <td>c:100155</td>\n",
       "      <td>2011-09-06</td>\n",
       "      <td>series-b</td>\n",
       "      <td>6500000.0</td>\n",
       "      <td>3</td>\n",
       "    </tr>\n",
       "    <tr>\n",
       "      <th>25537</th>\n",
       "      <td>c:100155</td>\n",
       "      <td>2012-01-26</td>\n",
       "      <td>series-b</td>\n",
       "      <td>3250000.0</td>\n",
       "      <td>2</td>\n",
       "    </tr>\n",
       "    <tr>\n",
       "      <th>2971</th>\n",
       "      <td>c:10018</td>\n",
       "      <td>2008-08-25</td>\n",
       "      <td>series-b</td>\n",
       "      <td>8000000.0</td>\n",
       "      <td>3</td>\n",
       "    </tr>\n",
       "    <tr>\n",
       "      <th>21209</th>\n",
       "      <td>c:10018</td>\n",
       "      <td>2011-05-12</td>\n",
       "      <td>series-c+</td>\n",
       "      <td>10000000.0</td>\n",
       "      <td>4</td>\n",
       "    </tr>\n",
       "  </tbody>\n",
       "</table>\n",
       "</div>"
      ],
      "text/plain": [
       "      object_id  funded_at funding_round_type  raised_amount_usd  participants\n",
       "819         c:1 2005-10-01           series-a          5250000.0             2\n",
       "820         c:1 2007-01-01           series-b          9500000.0             3\n",
       "2123        c:1 2008-05-19          series-c+         25000000.0             4\n",
       "1525     c:1001 2008-02-26           series-a          5000000.0             3\n",
       "6061    c:10014 2008-09-01              angel                NaN             1\n",
       "3296    c:10015 2008-10-10           series-a          2000000.0             2\n",
       "16861   c:10015 2010-09-10           series-b          9000000.0             4\n",
       "49113   c:10015 2012-01-01            venture          2069200.0             4\n",
       "25478   c:10015 2012-01-24          series-c+         12000000.0             4\n",
       "41342   c:10015 2013-08-13          series-c+         43000000.0             5\n",
       "50866  c:100155 2011-03-08              other           375293.0             0\n",
       "23193  c:100155 2011-09-06           series-b          6500000.0             3\n",
       "25537  c:100155 2012-01-26           series-b          3250000.0             2\n",
       "2971    c:10018 2008-08-25           series-b          8000000.0             3\n",
       "21209   c:10018 2011-05-12          series-c+         10000000.0             4"
      ]
     },
     "execution_count": 38,
     "metadata": {},
     "output_type": "execute_result"
    }
   ],
   "source": [
    "funding_stats.head(15)"
   ]
  },
  {
   "cell_type": "markdown",
   "metadata": {},
   "source": [
    "## Get acquisition and ipo data"
   ]
  },
  {
   "cell_type": "code",
   "execution_count": 20,
   "metadata": {},
   "outputs": [],
   "source": [
    "query3 = \"SELECT * FROM cb_acquisitions;\"\n",
    "\n",
    "acquisition=pd_sql.read_sql(query3, connection)"
   ]
  },
  {
   "cell_type": "code",
   "execution_count": 21,
   "metadata": {},
   "outputs": [
    {
     "data": {
      "text/plain": [
       "Index(['id', 'acquisition_id', 'acquiring_object_id', 'acquired_object_id',\n",
       "       'term_code', 'price_amount', 'price_currency_code', 'acquired_at',\n",
       "       'source_url', 'source_description', 'created_at', 'updated_at'],\n",
       "      dtype='object')"
      ]
     },
     "execution_count": 21,
     "metadata": {},
     "output_type": "execute_result"
    }
   ],
   "source": [
    "acquisition.columns"
   ]
  },
  {
   "cell_type": "code",
   "execution_count": 22,
   "metadata": {},
   "outputs": [],
   "source": [
    "acquisition=acquisition[['acquired_object_id','acquired_at']]"
   ]
  },
  {
   "cell_type": "code",
   "execution_count": 23,
   "metadata": {},
   "outputs": [],
   "source": [
    "query4 = \"SELECT * FROM cb_ipos;\"\n",
    "\n",
    "ipo=pd_sql.read_sql(query4, connection)"
   ]
  },
  {
   "cell_type": "code",
   "execution_count": 24,
   "metadata": {},
   "outputs": [
    {
     "data": {
      "text/plain": [
       "Index(['id', 'ipo_id', 'object_id', 'valuation_amount',\n",
       "       'valuation_currency_code', 'raised_amount', 'raised_currency_code',\n",
       "       'public_at', 'stock_symbol', 'source_url', 'source_description',\n",
       "       'created_at', 'updated_at'],\n",
       "      dtype='object')"
      ]
     },
     "execution_count": 24,
     "metadata": {},
     "output_type": "execute_result"
    }
   ],
   "source": [
    "ipo.columns"
   ]
  },
  {
   "cell_type": "code",
   "execution_count": 25,
   "metadata": {},
   "outputs": [],
   "source": [
    "ipo=ipo[['object_id','public_at']]"
   ]
  },
  {
   "cell_type": "markdown",
   "metadata": {},
   "source": [
    "# Feature Engineering"
   ]
  },
  {
   "cell_type": "markdown",
   "metadata": {},
   "source": [
    "Feature Engineering To-Do\n",
    "1. Merge funding, acquisition, ipo stats to company data\n",
    "2. Get yearly company data snapshots for forecasting\n",
    "3. Figure out status of company looking ahead to 3-years out\n",
    "4. Calculate active days since founding date per row"
   ]
  },
  {
   "cell_type": "markdown",
   "metadata": {},
   "source": [
    "## Merge funding, acquisition, ipo stats to company data"
   ]
  },
  {
   "cell_type": "code",
   "execution_count": 147,
   "metadata": {},
   "outputs": [],
   "source": [
    "merged_df=funding_stats.merge(select_df, how='left', left_on='object_id', right_on='id')"
   ]
  },
  {
   "cell_type": "code",
   "execution_count": 148,
   "metadata": {},
   "outputs": [],
   "source": [
    "merged_df=merged_df.merge(acquisition, how='left', left_on='object_id', right_on='acquired_object_id')"
   ]
  },
  {
   "cell_type": "code",
   "execution_count": 149,
   "metadata": {},
   "outputs": [],
   "source": [
    "merged_df=merged_df.merge(ipo, how='left', left_on='object_id', right_on='object_id')"
   ]
  },
  {
   "cell_type": "code",
   "execution_count": 150,
   "metadata": {},
   "outputs": [
    {
     "name": "stdout",
     "output_type": "stream",
     "text": [
      "<class 'pandas.core.frame.DataFrame'>\n",
      "Int64Index: 53026 entries, 0 to 53025\n",
      "Data columns (total 16 columns):\n",
      "object_id             53026 non-null object\n",
      "funded_at             52777 non-null datetime64[ns]\n",
      "funding_round_type    53026 non-null object\n",
      "raised_amount_usd     47014 non-null float64\n",
      "participants          53026 non-null int64\n",
      "id                    52724 non-null object\n",
      "name                  52724 non-null object\n",
      "category_code         51259 non-null object\n",
      "status                52724 non-null object\n",
      "founded_at            43280 non-null object\n",
      "closed_at             2943 non-null object\n",
      "region                52724 non-null object\n",
      "first_funding_at      52518 non-null object\n",
      "acquired_object_id    5022 non-null object\n",
      "acquired_at           5017 non-null object\n",
      "public_at             950 non-null object\n",
      "dtypes: datetime64[ns](1), float64(1), int64(1), object(13)\n",
      "memory usage: 6.9+ MB\n"
     ]
    }
   ],
   "source": [
    "merged_df.info()"
   ]
  },
  {
   "cell_type": "markdown",
   "metadata": {},
   "source": [
    "## Clean data"
   ]
  },
  {
   "cell_type": "code",
   "execution_count": 30,
   "metadata": {},
   "outputs": [],
   "source": [
    "# ensure date datatypes are indeed dates"
   ]
  },
  {
   "cell_type": "code",
   "execution_count": 151,
   "metadata": {},
   "outputs": [],
   "source": [
    "merged_df['founded_at'] = pd.to_datetime(merged_df['founded_at'])"
   ]
  },
  {
   "cell_type": "code",
   "execution_count": 152,
   "metadata": {},
   "outputs": [],
   "source": [
    "merged_df['acquired_at'] = pd.to_datetime(merged_df['acquired_at'])"
   ]
  },
  {
   "cell_type": "code",
   "execution_count": 153,
   "metadata": {},
   "outputs": [],
   "source": [
    "merged_df['public_at'] = pd.to_datetime(merged_df['public_at'])"
   ]
  },
  {
   "cell_type": "code",
   "execution_count": 154,
   "metadata": {},
   "outputs": [],
   "source": [
    "merged_df['closed_at'] = pd.to_datetime(merged_df['closed_at'])"
   ]
  },
  {
   "cell_type": "code",
   "execution_count": 155,
   "metadata": {},
   "outputs": [],
   "source": [
    "# drop rows where there is missing founding dates for a company\n",
    "merged_df=merged_df[merged_df['founded_at'].notnull()]"
   ]
  },
  {
   "cell_type": "code",
   "execution_count": 156,
   "metadata": {},
   "outputs": [],
   "source": [
    "# drop rows where there is missing funding date info\n",
    "merged_df=merged_df[merged_df['funded_at'].notnull()]"
   ]
  },
  {
   "cell_type": "code",
   "execution_count": 157,
   "metadata": {},
   "outputs": [
    {
     "data": {
      "text/plain": [
       "4541"
      ]
     },
     "execution_count": 157,
     "metadata": {},
     "output_type": "execute_result"
    }
   ],
   "source": [
    "# find rows where there is no info about funding round amount\n",
    "merged_df[merged_df['raised_amount_usd'].isnull()]['object_id'].count()"
   ]
  },
  {
   "cell_type": "code",
   "execution_count": 158,
   "metadata": {},
   "outputs": [],
   "source": [
    "tmp= merged_df[merged_df['raised_amount_usd'].isnull()]['object_id'].values"
   ]
  },
  {
   "cell_type": "code",
   "execution_count": 159,
   "metadata": {},
   "outputs": [],
   "source": [
    "#drop the 4541 companies with missing funding info\n",
    "merged_df=merged_df[~merged_df['object_id'].isin(tmp)]"
   ]
  },
  {
   "cell_type": "code",
   "execution_count": 160,
   "metadata": {},
   "outputs": [],
   "source": [
    "merged_df.to_pickle('../data/interim/data_for_exploration.pkl')"
   ]
  },
  {
   "cell_type": "markdown",
   "metadata": {},
   "source": [
    "## Get yearly company data snapshots for forecasting"
   ]
  },
  {
   "cell_type": "code",
   "execution_count": 161,
   "metadata": {},
   "outputs": [],
   "source": [
    "merged_df.sort_values(by=['object_id', 'funded_at'], inplace=True)"
   ]
  },
  {
   "cell_type": "code",
   "execution_count": 162,
   "metadata": {},
   "outputs": [],
   "source": [
    "# get cumulative raised sums\n",
    "merged_df['raised_sum']=merged_df.groupby('object_id')['raised_amount_usd'].cumsum()"
   ]
  },
  {
   "cell_type": "code",
   "execution_count": 163,
   "metadata": {},
   "outputs": [],
   "source": [
    "merged_df['round_rank']=merged_df.groupby('object_id').cumcount()+1"
   ]
  },
  {
   "cell_type": "code",
   "execution_count": 164,
   "metadata": {},
   "outputs": [
    {
     "data": {
      "text/html": [
       "<div>\n",
       "<style scoped>\n",
       "    .dataframe tbody tr th:only-of-type {\n",
       "        vertical-align: middle;\n",
       "    }\n",
       "\n",
       "    .dataframe tbody tr th {\n",
       "        vertical-align: top;\n",
       "    }\n",
       "\n",
       "    .dataframe thead th {\n",
       "        text-align: right;\n",
       "    }\n",
       "</style>\n",
       "<table border=\"1\" class=\"dataframe\">\n",
       "  <thead>\n",
       "    <tr style=\"text-align: right;\">\n",
       "      <th></th>\n",
       "      <th>object_id</th>\n",
       "      <th>funded_at</th>\n",
       "      <th>funding_round_type</th>\n",
       "      <th>raised_amount_usd</th>\n",
       "      <th>participants</th>\n",
       "      <th>id</th>\n",
       "      <th>name</th>\n",
       "      <th>category_code</th>\n",
       "      <th>status</th>\n",
       "      <th>founded_at</th>\n",
       "      <th>closed_at</th>\n",
       "      <th>region</th>\n",
       "      <th>first_funding_at</th>\n",
       "      <th>acquired_object_id</th>\n",
       "      <th>acquired_at</th>\n",
       "      <th>public_at</th>\n",
       "      <th>raised_sum</th>\n",
       "      <th>round_rank</th>\n",
       "    </tr>\n",
       "  </thead>\n",
       "  <tbody>\n",
       "    <tr>\n",
       "      <th>0</th>\n",
       "      <td>c:1</td>\n",
       "      <td>2005-10-01</td>\n",
       "      <td>series-a</td>\n",
       "      <td>5250000.0</td>\n",
       "      <td>2</td>\n",
       "      <td>c:1</td>\n",
       "      <td>Wetpaint</td>\n",
       "      <td>web</td>\n",
       "      <td>operating</td>\n",
       "      <td>2005-10-17</td>\n",
       "      <td>NaT</td>\n",
       "      <td>Seattle</td>\n",
       "      <td>2005-10-01</td>\n",
       "      <td>NaN</td>\n",
       "      <td>NaT</td>\n",
       "      <td>NaT</td>\n",
       "      <td>5250000.0</td>\n",
       "      <td>1</td>\n",
       "    </tr>\n",
       "    <tr>\n",
       "      <th>1</th>\n",
       "      <td>c:1</td>\n",
       "      <td>2007-01-01</td>\n",
       "      <td>series-b</td>\n",
       "      <td>9500000.0</td>\n",
       "      <td>3</td>\n",
       "      <td>c:1</td>\n",
       "      <td>Wetpaint</td>\n",
       "      <td>web</td>\n",
       "      <td>operating</td>\n",
       "      <td>2005-10-17</td>\n",
       "      <td>NaT</td>\n",
       "      <td>Seattle</td>\n",
       "      <td>2005-10-01</td>\n",
       "      <td>NaN</td>\n",
       "      <td>NaT</td>\n",
       "      <td>NaT</td>\n",
       "      <td>14750000.0</td>\n",
       "      <td>2</td>\n",
       "    </tr>\n",
       "    <tr>\n",
       "      <th>2</th>\n",
       "      <td>c:1</td>\n",
       "      <td>2008-05-19</td>\n",
       "      <td>series-c+</td>\n",
       "      <td>25000000.0</td>\n",
       "      <td>4</td>\n",
       "      <td>c:1</td>\n",
       "      <td>Wetpaint</td>\n",
       "      <td>web</td>\n",
       "      <td>operating</td>\n",
       "      <td>2005-10-17</td>\n",
       "      <td>NaT</td>\n",
       "      <td>Seattle</td>\n",
       "      <td>2005-10-01</td>\n",
       "      <td>NaN</td>\n",
       "      <td>NaT</td>\n",
       "      <td>NaT</td>\n",
       "      <td>39750000.0</td>\n",
       "      <td>3</td>\n",
       "    </tr>\n",
       "    <tr>\n",
       "      <th>3</th>\n",
       "      <td>c:1001</td>\n",
       "      <td>2008-02-26</td>\n",
       "      <td>series-a</td>\n",
       "      <td>5000000.0</td>\n",
       "      <td>3</td>\n",
       "      <td>c:1001</td>\n",
       "      <td>FriendFeed</td>\n",
       "      <td>web</td>\n",
       "      <td>acquired</td>\n",
       "      <td>2007-10-01</td>\n",
       "      <td>NaT</td>\n",
       "      <td>SF Bay</td>\n",
       "      <td>2008-02-26</td>\n",
       "      <td>c:1001</td>\n",
       "      <td>2009-08-10</td>\n",
       "      <td>NaT</td>\n",
       "      <td>5000000.0</td>\n",
       "      <td>1</td>\n",
       "    </tr>\n",
       "    <tr>\n",
       "      <th>5</th>\n",
       "      <td>c:10015</td>\n",
       "      <td>2008-10-10</td>\n",
       "      <td>series-a</td>\n",
       "      <td>2000000.0</td>\n",
       "      <td>2</td>\n",
       "      <td>c:10015</td>\n",
       "      <td>Fitbit</td>\n",
       "      <td>health</td>\n",
       "      <td>operating</td>\n",
       "      <td>2007-10-01</td>\n",
       "      <td>NaT</td>\n",
       "      <td>SF Bay</td>\n",
       "      <td>2008-10-10</td>\n",
       "      <td>NaN</td>\n",
       "      <td>NaT</td>\n",
       "      <td>NaT</td>\n",
       "      <td>2000000.0</td>\n",
       "      <td>1</td>\n",
       "    </tr>\n",
       "  </tbody>\n",
       "</table>\n",
       "</div>"
      ],
      "text/plain": [
       "  object_id  funded_at funding_round_type  raised_amount_usd  participants  \\\n",
       "0       c:1 2005-10-01           series-a          5250000.0             2   \n",
       "1       c:1 2007-01-01           series-b          9500000.0             3   \n",
       "2       c:1 2008-05-19          series-c+         25000000.0             4   \n",
       "3    c:1001 2008-02-26           series-a          5000000.0             3   \n",
       "5   c:10015 2008-10-10           series-a          2000000.0             2   \n",
       "\n",
       "        id        name category_code     status founded_at closed_at   region  \\\n",
       "0      c:1    Wetpaint           web  operating 2005-10-17       NaT  Seattle   \n",
       "1      c:1    Wetpaint           web  operating 2005-10-17       NaT  Seattle   \n",
       "2      c:1    Wetpaint           web  operating 2005-10-17       NaT  Seattle   \n",
       "3   c:1001  FriendFeed           web   acquired 2007-10-01       NaT   SF Bay   \n",
       "5  c:10015      Fitbit        health  operating 2007-10-01       NaT   SF Bay   \n",
       "\n",
       "  first_funding_at acquired_object_id acquired_at public_at  raised_sum  \\\n",
       "0       2005-10-01                NaN         NaT       NaT   5250000.0   \n",
       "1       2005-10-01                NaN         NaT       NaT  14750000.0   \n",
       "2       2005-10-01                NaN         NaT       NaT  39750000.0   \n",
       "3       2008-02-26             c:1001  2009-08-10       NaT   5000000.0   \n",
       "5       2008-10-10                NaN         NaT       NaT   2000000.0   \n",
       "\n",
       "   round_rank  \n",
       "0           1  \n",
       "1           2  \n",
       "2           3  \n",
       "3           1  \n",
       "5           1  "
      ]
     },
     "execution_count": 164,
     "metadata": {},
     "output_type": "execute_result"
    }
   ],
   "source": [
    "merged_df.head()"
   ]
  },
  {
   "cell_type": "code",
   "execution_count": 165,
   "metadata": {},
   "outputs": [
    {
     "data": {
      "text/plain": [
       "count                   35806\n",
       "unique                   2136\n",
       "top       2007-01-01 00:00:00\n",
       "freq                     1842\n",
       "first     1903-01-01 00:00:00\n",
       "last      2014-01-01 00:00:00\n",
       "Name: founded_at, dtype: object"
      ]
     },
     "execution_count": 165,
     "metadata": {},
     "output_type": "execute_result"
    }
   ],
   "source": [
    "merged_df['founded_at'].describe()"
   ]
  },
  {
   "cell_type": "code",
   "execution_count": 166,
   "metadata": {},
   "outputs": [],
   "source": [
    "last_date = dt.datetime(2014, 1, 1, 0, 0)"
   ]
  },
  {
   "cell_type": "code",
   "execution_count": 167,
   "metadata": {},
   "outputs": [],
   "source": [
    "# create last known status row for each company (e.g. acquired, operating, closed, or ipo-ed)\n",
    "merged_df['last_status_date']=merged_df[['closed_at', 'acquired_at', 'public_at']].values.max(1)"
   ]
  },
  {
   "cell_type": "code",
   "execution_count": 168,
   "metadata": {},
   "outputs": [],
   "source": [
    "merged_df['last_status_date'].fillna(last_date, inplace=True)"
   ]
  },
  {
   "cell_type": "code",
   "execution_count": 169,
   "metadata": {
    "scrolled": false
   },
   "outputs": [],
   "source": [
    "merged_df['days_active']=(merged_df['funded_at']-merged_df['founded_at'])/ np.timedelta64(1, 'D')"
   ]
  },
  {
   "cell_type": "code",
   "execution_count": 170,
   "metadata": {},
   "outputs": [],
   "source": [
    "# add rows to account for the last known status date for a company\n",
    "rows_to_add=merged_df.groupby(by='object_id').tail(1)"
   ]
  },
  {
   "cell_type": "code",
   "execution_count": 171,
   "metadata": {},
   "outputs": [
    {
     "name": "stderr",
     "output_type": "stream",
     "text": [
      "/Users/pyt/anaconda3/lib/python3.6/site-packages/ipykernel_launcher.py:1: SettingWithCopyWarning: \n",
      "A value is trying to be set on a copy of a slice from a DataFrame\n",
      "\n",
      "See the caveats in the documentation: http://pandas.pydata.org/pandas-docs/stable/indexing.html#indexing-view-versus-copy\n",
      "  \"\"\"Entry point for launching an IPython kernel.\n"
     ]
    }
   ],
   "source": [
    "rows_to_add.loc['days_active']=(rows_to_add['last_status_date']-rows_to_add['founded_at'])/ np.timedelta64(1, 'D')"
   ]
  },
  {
   "cell_type": "code",
   "execution_count": 113,
   "metadata": {},
   "outputs": [],
   "source": [
    "rows_to_add.set_index('last_status_date', inplace=True)"
   ]
  },
  {
   "cell_type": "code",
   "execution_count": 114,
   "metadata": {},
   "outputs": [],
   "source": [
    "rows_to_add=rows_to_add.drop(columns=['funded_at'])"
   ]
  },
  {
   "cell_type": "code",
   "execution_count": 115,
   "metadata": {},
   "outputs": [],
   "source": [
    "# make the last_status_date the \"funded_at\" date for now so that funding data can be merged\n",
    "rows_to_add.index.names = ['funded_at']"
   ]
  },
  {
   "cell_type": "code",
   "execution_count": 116,
   "metadata": {},
   "outputs": [
    {
     "data": {
      "text/html": [
       "<div>\n",
       "<style scoped>\n",
       "    .dataframe tbody tr th:only-of-type {\n",
       "        vertical-align: middle;\n",
       "    }\n",
       "\n",
       "    .dataframe tbody tr th {\n",
       "        vertical-align: top;\n",
       "    }\n",
       "\n",
       "    .dataframe thead th {\n",
       "        text-align: right;\n",
       "    }\n",
       "</style>\n",
       "<table border=\"1\" class=\"dataframe\">\n",
       "  <thead>\n",
       "    <tr style=\"text-align: right;\">\n",
       "      <th></th>\n",
       "      <th>object_id</th>\n",
       "      <th>funding_round_type</th>\n",
       "      <th>raised_amount_usd</th>\n",
       "      <th>participants</th>\n",
       "      <th>id</th>\n",
       "      <th>name</th>\n",
       "      <th>category_code</th>\n",
       "      <th>status</th>\n",
       "      <th>founded_at</th>\n",
       "      <th>closed_at</th>\n",
       "      <th>region</th>\n",
       "      <th>first_funding_at</th>\n",
       "      <th>acquired_object_id</th>\n",
       "      <th>acquired_at</th>\n",
       "      <th>public_at</th>\n",
       "      <th>raised_sum</th>\n",
       "      <th>round_rank</th>\n",
       "      <th>days_active</th>\n",
       "    </tr>\n",
       "    <tr>\n",
       "      <th>funded_at</th>\n",
       "      <th></th>\n",
       "      <th></th>\n",
       "      <th></th>\n",
       "      <th></th>\n",
       "      <th></th>\n",
       "      <th></th>\n",
       "      <th></th>\n",
       "      <th></th>\n",
       "      <th></th>\n",
       "      <th></th>\n",
       "      <th></th>\n",
       "      <th></th>\n",
       "      <th></th>\n",
       "      <th></th>\n",
       "      <th></th>\n",
       "      <th></th>\n",
       "      <th></th>\n",
       "      <th></th>\n",
       "    </tr>\n",
       "  </thead>\n",
       "  <tbody>\n",
       "    <tr>\n",
       "      <th>2014-01-01</th>\n",
       "      <td>c:1</td>\n",
       "      <td>series-c+</td>\n",
       "      <td>25000000.0</td>\n",
       "      <td>4</td>\n",
       "      <td>c:1</td>\n",
       "      <td>Wetpaint</td>\n",
       "      <td>web</td>\n",
       "      <td>operating</td>\n",
       "      <td>2005-10-17</td>\n",
       "      <td>NaT</td>\n",
       "      <td>Seattle</td>\n",
       "      <td>2005-10-01</td>\n",
       "      <td>NaN</td>\n",
       "      <td>NaT</td>\n",
       "      <td>NaT</td>\n",
       "      <td>39750000.0</td>\n",
       "      <td>3</td>\n",
       "      <td>2998.0</td>\n",
       "    </tr>\n",
       "    <tr>\n",
       "      <th>2009-08-10</th>\n",
       "      <td>c:1001</td>\n",
       "      <td>series-a</td>\n",
       "      <td>5000000.0</td>\n",
       "      <td>3</td>\n",
       "      <td>c:1001</td>\n",
       "      <td>FriendFeed</td>\n",
       "      <td>web</td>\n",
       "      <td>acquired</td>\n",
       "      <td>2007-10-01</td>\n",
       "      <td>NaT</td>\n",
       "      <td>SF Bay</td>\n",
       "      <td>2008-02-26</td>\n",
       "      <td>c:1001</td>\n",
       "      <td>2009-08-10</td>\n",
       "      <td>NaT</td>\n",
       "      <td>5000000.0</td>\n",
       "      <td>1</td>\n",
       "      <td>679.0</td>\n",
       "    </tr>\n",
       "    <tr>\n",
       "      <th>2014-01-01</th>\n",
       "      <td>c:10015</td>\n",
       "      <td>series-c+</td>\n",
       "      <td>43000000.0</td>\n",
       "      <td>5</td>\n",
       "      <td>c:10015</td>\n",
       "      <td>Fitbit</td>\n",
       "      <td>health</td>\n",
       "      <td>operating</td>\n",
       "      <td>2007-10-01</td>\n",
       "      <td>NaT</td>\n",
       "      <td>SF Bay</td>\n",
       "      <td>2008-10-10</td>\n",
       "      <td>NaN</td>\n",
       "      <td>NaT</td>\n",
       "      <td>NaT</td>\n",
       "      <td>68069200.0</td>\n",
       "      <td>5</td>\n",
       "      <td>2284.0</td>\n",
       "    </tr>\n",
       "    <tr>\n",
       "      <th>2014-01-01</th>\n",
       "      <td>c:100155</td>\n",
       "      <td>series-b</td>\n",
       "      <td>3250000.0</td>\n",
       "      <td>2</td>\n",
       "      <td>c:100155</td>\n",
       "      <td>MTPV</td>\n",
       "      <td>cleantech</td>\n",
       "      <td>operating</td>\n",
       "      <td>2003-01-01</td>\n",
       "      <td>NaT</td>\n",
       "      <td>Austin</td>\n",
       "      <td>2011-03-08</td>\n",
       "      <td>NaN</td>\n",
       "      <td>NaT</td>\n",
       "      <td>NaT</td>\n",
       "      <td>10125293.0</td>\n",
       "      <td>3</td>\n",
       "      <td>4018.0</td>\n",
       "    </tr>\n",
       "    <tr>\n",
       "      <th>2014-01-01</th>\n",
       "      <td>c:10018</td>\n",
       "      <td>series-c+</td>\n",
       "      <td>15000000.0</td>\n",
       "      <td>6</td>\n",
       "      <td>c:10018</td>\n",
       "      <td>Demandbase</td>\n",
       "      <td>analytics</td>\n",
       "      <td>operating</td>\n",
       "      <td>2006-01-01</td>\n",
       "      <td>NaT</td>\n",
       "      <td>SF Bay</td>\n",
       "      <td>2008-08-25</td>\n",
       "      <td>NaN</td>\n",
       "      <td>NaT</td>\n",
       "      <td>NaT</td>\n",
       "      <td>33000000.0</td>\n",
       "      <td>3</td>\n",
       "      <td>2922.0</td>\n",
       "    </tr>\n",
       "  </tbody>\n",
       "</table>\n",
       "</div>"
      ],
      "text/plain": [
       "           object_id funding_round_type  raised_amount_usd  participants  \\\n",
       "funded_at                                                                  \n",
       "2014-01-01       c:1          series-c+         25000000.0             4   \n",
       "2009-08-10    c:1001           series-a          5000000.0             3   \n",
       "2014-01-01   c:10015          series-c+         43000000.0             5   \n",
       "2014-01-01  c:100155           series-b          3250000.0             2   \n",
       "2014-01-01   c:10018          series-c+         15000000.0             6   \n",
       "\n",
       "                  id        name category_code     status founded_at  \\\n",
       "funded_at                                                              \n",
       "2014-01-01       c:1    Wetpaint           web  operating 2005-10-17   \n",
       "2009-08-10    c:1001  FriendFeed           web   acquired 2007-10-01   \n",
       "2014-01-01   c:10015      Fitbit        health  operating 2007-10-01   \n",
       "2014-01-01  c:100155        MTPV     cleantech  operating 2003-01-01   \n",
       "2014-01-01   c:10018  Demandbase     analytics  operating 2006-01-01   \n",
       "\n",
       "           closed_at   region first_funding_at acquired_object_id acquired_at  \\\n",
       "funded_at                                                                       \n",
       "2014-01-01       NaT  Seattle       2005-10-01                NaN         NaT   \n",
       "2009-08-10       NaT   SF Bay       2008-02-26             c:1001  2009-08-10   \n",
       "2014-01-01       NaT   SF Bay       2008-10-10                NaN         NaT   \n",
       "2014-01-01       NaT   Austin       2011-03-08                NaN         NaT   \n",
       "2014-01-01       NaT   SF Bay       2008-08-25                NaN         NaT   \n",
       "\n",
       "           public_at  raised_sum  round_rank  days_active  \n",
       "funded_at                                                  \n",
       "2014-01-01       NaT  39750000.0           3       2998.0  \n",
       "2009-08-10       NaT   5000000.0           1        679.0  \n",
       "2014-01-01       NaT  68069200.0           5       2284.0  \n",
       "2014-01-01       NaT  10125293.0           3       4018.0  \n",
       "2014-01-01       NaT  33000000.0           3       2922.0  "
      ]
     },
     "execution_count": 116,
     "metadata": {},
     "output_type": "execute_result"
    }
   ],
   "source": [
    "rows_to_add.head()"
   ]
  },
  {
   "cell_type": "code",
   "execution_count": 117,
   "metadata": {},
   "outputs": [],
   "source": [
    "merged_df=merged_df.set_index('funded_at')"
   ]
  },
  {
   "cell_type": "code",
   "execution_count": 118,
   "metadata": {},
   "outputs": [
    {
     "name": "stderr",
     "output_type": "stream",
     "text": [
      "/Users/pyt/anaconda3/lib/python3.6/site-packages/pandas/core/frame.py:6701: FutureWarning: Sorting because non-concatenation axis is not aligned. A future version\n",
      "of pandas will change to not sort by default.\n",
      "\n",
      "To accept the future behavior, pass 'sort=False'.\n",
      "\n",
      "To retain the current behavior and silence the warning, pass 'sort=True'.\n",
      "\n",
      "  sort=sort)\n"
     ]
    }
   ],
   "source": [
    "merged_df=merged_df.append(rows_to_add, sort=True)"
   ]
  },
  {
   "cell_type": "code",
   "execution_count": 119,
   "metadata": {},
   "outputs": [],
   "source": [
    "merged_df.sort_values(by=['object_id', 'funded_at'], inplace=True)"
   ]
  },
  {
   "cell_type": "code",
   "execution_count": 120,
   "metadata": {},
   "outputs": [],
   "source": [
    "#sample to yearly snapshot data\n",
    "merged_df2=merged_df.groupby('object_id').resample('1Y').bfill()"
   ]
  },
  {
   "cell_type": "code",
   "execution_count": 121,
   "metadata": {},
   "outputs": [],
   "source": [
    "merged_df3=merged_df2.reset_index(drop=True, level=0)"
   ]
  },
  {
   "cell_type": "code",
   "execution_count": 122,
   "metadata": {},
   "outputs": [],
   "source": [
    "merged_df4=merged_df3.reset_index()"
   ]
  },
  {
   "cell_type": "code",
   "execution_count": 123,
   "metadata": {},
   "outputs": [],
   "source": [
    "merged_df4.sort_values(by=['object_id', 'funded_at'], inplace=True)"
   ]
  },
  {
   "cell_type": "code",
   "execution_count": 124,
   "metadata": {
    "scrolled": true
   },
   "outputs": [],
   "source": [
    "merged_df4['yearly_status']='operating'"
   ]
  },
  {
   "cell_type": "code",
   "execution_count": 125,
   "metadata": {},
   "outputs": [],
   "source": [
    "# set status to what will happen in 3 years out\n",
    "g = merged_df4.groupby('object_id')\n",
    "merged_df4.loc[g.tail(3).index, 'yearly_status'] = merged_df4.loc[g.tail(3).index, 'status']"
   ]
  },
  {
   "cell_type": "code",
   "execution_count": 127,
   "metadata": {},
   "outputs": [],
   "source": [
    "merged_df4['days_active']=(merged_df4['funded_at']-merged_df4['founded_at'])/ np.timedelta64(1, 'D')"
   ]
  },
  {
   "cell_type": "code",
   "execution_count": 175,
   "metadata": {},
   "outputs": [
    {
     "data": {
      "text/plain": [
       "funded_at             94217\n",
       "acquired_at            5847\n",
       "acquired_object_id     5860\n",
       "category_code         72043\n",
       "closed_at              3845\n",
       "days_active           73901\n",
       "first_funding_at      73901\n",
       "founded_at            73901\n",
       "funding_round_type    73901\n",
       "id                    73901\n",
       "last_status_date      19691\n",
       "name                  73901\n",
       "object_id             73901\n",
       "participants          73901\n",
       "public_at              1339\n",
       "raised_amount_usd     73901\n",
       "raised_sum            73901\n",
       "region                73901\n",
       "round_rank            73901\n",
       "status                73901\n",
       "yearly_status         94214\n",
       "dtype: int64"
      ]
     },
     "execution_count": 175,
     "metadata": {},
     "output_type": "execute_result"
    }
   ],
   "source": [
    "merged_df4.count()"
   ]
  },
  {
   "cell_type": "code",
   "execution_count": 176,
   "metadata": {},
   "outputs": [],
   "source": [
    "# filter out companies that are established before 1990\n",
    "merged_df4=merged_df4[merged_df4['founded_at']>'1990-01-01']"
   ]
  },
  {
   "cell_type": "markdown",
   "metadata": {},
   "source": [
    "## Pickle data before final cleaning and dropping n/a data"
   ]
  },
  {
   "cell_type": "code",
   "execution_count": 177,
   "metadata": {},
   "outputs": [],
   "source": [
    "merged_df4.to_pickle('../data/interim/data_for_modeling_prep.pkl')"
   ]
  },
  {
   "cell_type": "markdown",
   "metadata": {},
   "source": [
    "# Clean and drop irrelevant data"
   ]
  },
  {
   "cell_type": "code",
   "execution_count": 188,
   "metadata": {},
   "outputs": [],
   "source": [
    "df=merged_df4"
   ]
  },
  {
   "cell_type": "code",
   "execution_count": 118,
   "metadata": {},
   "outputs": [],
   "source": [
    "# dropp columns\n",
    "df=df.drop(columns=['object_id', 'funding_round_type', 'raised_amount_usd','object_id', \n",
    "                                 'founded_at','id', 'name', 'founded_at',\n",
    "                        'closed_at', 'first_funding_at', 'funded_at', 'status', 'public_at', 'last_status_date', 'acquired_at',\n",
    "                                'acquired_object_id'])"
   ]
  },
  {
   "cell_type": "code",
   "execution_count": 119,
   "metadata": {},
   "outputs": [],
   "source": [
    "# need to fill in null values\n",
    "df['category_code'].fillna('None', inplace=True)"
   ]
  },
  {
   "cell_type": "code",
   "execution_count": 120,
   "metadata": {},
   "outputs": [],
   "source": [
    "df=df[(df['days_active'].notna())]"
   ]
  },
  {
   "cell_type": "code",
   "execution_count": 121,
   "metadata": {},
   "outputs": [
    {
     "data": {
      "text/plain": [
       "array(['operating', 'acquired', 'closed', 'ipo'], dtype=object)"
      ]
     },
     "execution_count": 121,
     "metadata": {},
     "output_type": "execute_result"
    }
   ],
   "source": [
    "df['yearly_status'].unique()"
   ]
  },
  {
   "cell_type": "code",
   "execution_count": 122,
   "metadata": {},
   "outputs": [
    {
     "name": "stdout",
     "output_type": "stream",
     "text": [
      "<class 'pandas.core.frame.DataFrame'>\n",
      "Int64Index: 71717 entries, 0 to 94215\n",
      "Data columns (total 7 columns):\n",
      "category_code    71717 non-null object\n",
      "days_active      71717 non-null float64\n",
      "participants     71717 non-null float64\n",
      "raised_sum       71717 non-null float64\n",
      "region           71717 non-null object\n",
      "round_rank       71717 non-null float64\n",
      "yearly_status    71717 non-null object\n",
      "dtypes: float64(4), object(3)\n",
      "memory usage: 4.4+ MB\n"
     ]
    }
   ],
   "source": [
    "df.info()"
   ]
  },
  {
   "cell_type": "code",
   "execution_count": 123,
   "metadata": {},
   "outputs": [
    {
     "name": "stdout",
     "output_type": "stream",
     "text": [
      "Number of categories: 43\n"
     ]
    }
   ],
   "source": [
    "print(\"Number of categories: \"+str(np.unique(df.category_code.values).size))"
   ]
  },
  {
   "cell_type": "code",
   "execution_count": 124,
   "metadata": {},
   "outputs": [
    {
     "name": "stdout",
     "output_type": "stream",
     "text": [
      "Number of region: 1758\n"
     ]
    }
   ],
   "source": [
    "print(\"Number of region: \"+str(np.unique(df.region.values).size))"
   ]
  },
  {
   "cell_type": "code",
   "execution_count": 125,
   "metadata": {},
   "outputs": [],
   "source": [
    "df.loc[~(df['category_code'].isin(['software', 'web', 'mobile', 'biotech', 'games_video', 'enterprise',\n",
    "       'advertising', 'ecommerce', 'network_hosting', 'hardware'])),['category_code']]=\"other\""
   ]
  },
  {
   "cell_type": "code",
   "execution_count": 126,
   "metadata": {},
   "outputs": [
    {
     "name": "stdout",
     "output_type": "stream",
     "text": [
      "Number of categories: 11\n"
     ]
    }
   ],
   "source": [
    "print(\"Number of categories: \"+str(np.unique(df.category_code.values).size))"
   ]
  },
  {
   "cell_type": "code",
   "execution_count": 127,
   "metadata": {},
   "outputs": [],
   "source": [
    "df.loc[~(df['region'].isin(['SF Bay', 'New York', 'Boston', 'Los Angeles', 'Seattle'])),['region']]=\"other\""
   ]
  },
  {
   "cell_type": "code",
   "execution_count": 128,
   "metadata": {},
   "outputs": [
    {
     "name": "stdout",
     "output_type": "stream",
     "text": [
      "Number of region: 6\n"
     ]
    }
   ],
   "source": [
    "print(\"Number of region: \"+str(np.unique(df.region.values).size))"
   ]
  },
  {
   "cell_type": "code",
   "execution_count": 185,
   "metadata": {
    "scrolled": true
   },
   "outputs": [
    {
     "data": {
      "text/plain": [
       "19653"
      ]
     },
     "execution_count": 185,
     "metadata": {},
     "output_type": "execute_result"
    }
   ],
   "source": [
    "len(merged_df4.object_id.unique())"
   ]
  },
  {
   "cell_type": "code",
   "execution_count": 130,
   "metadata": {},
   "outputs": [],
   "source": [
    "## Pickle data for modeling use\n",
    "df.to_pickle('../data/processed/data_for_modeling.pkl')"
   ]
  }
 ],
 "metadata": {
  "kernelspec": {
   "display_name": "Python 3",
   "language": "python",
   "name": "python3"
  },
  "language_info": {
   "codemirror_mode": {
    "name": "ipython",
    "version": 3
   },
   "file_extension": ".py",
   "mimetype": "text/x-python",
   "name": "python",
   "nbconvert_exporter": "python",
   "pygments_lexer": "ipython3",
   "version": "3.6.8"
  },
  "toc": {
   "base_numbering": 1,
   "nav_menu": {},
   "number_sections": true,
   "sideBar": true,
   "skip_h1_title": false,
   "title_cell": "Table of Contents",
   "title_sidebar": "Contents",
   "toc_cell": false,
   "toc_position": {
    "height": "calc(100% - 180px)",
    "left": "10px",
    "top": "150px",
    "width": "203.594px"
   },
   "toc_section_display": true,
   "toc_window_display": true
  }
 },
 "nbformat": 4,
 "nbformat_minor": 2
}
